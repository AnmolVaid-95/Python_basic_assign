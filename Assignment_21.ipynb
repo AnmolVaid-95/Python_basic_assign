{
 "cells": [
  {
   "cell_type": "markdown",
   "id": "35e75098",
   "metadata": {},
   "source": [
    "1. Add the current date to the text file today.txt as a string."
   ]
  },
  {
   "cell_type": "code",
   "execution_count": 1,
   "id": "5ff8606e",
   "metadata": {},
   "outputs": [
    {
     "name": "stdout",
     "output_type": "stream",
     "text": [
      "01-03-2022\n"
     ]
    }
   ],
   "source": [
    "import datetime\n",
    "# Code to Add current date to the today.txt file\n",
    "file = open('today.txt','w')\n",
    "file.write(datetime.datetime.now().strftime(\"%d-%m-%Y\"))\n",
    "file.close()\n",
    "# Code to Read current date from today.txt file\n",
    "file = open('today.txt','r')\n",
    "print(file.read())\n",
    "file.close()"
   ]
  },
  {
   "cell_type": "code",
   "execution_count": null,
   "id": "44aa198b",
   "metadata": {},
   "outputs": [],
   "source": []
  },
  {
   "cell_type": "markdown",
   "id": "6c0c4145",
   "metadata": {},
   "source": [
    "2. Read the text file today.txt into the string today_string"
   ]
  },
  {
   "cell_type": "code",
   "execution_count": 2,
   "id": "50e0858c",
   "metadata": {},
   "outputs": [
    {
     "name": "stdout",
     "output_type": "stream",
     "text": [
      "01-03-2022\n"
     ]
    }
   ],
   "source": [
    "file = open('today.txt','r')\n",
    "today_string = file.read()\n",
    "print(today_string)"
   ]
  },
  {
   "cell_type": "code",
   "execution_count": null,
   "id": "7bcf1a25",
   "metadata": {},
   "outputs": [],
   "source": []
  },
  {
   "cell_type": "markdown",
   "id": "4a50a3bc",
   "metadata": {},
   "source": [
    "3. Parse the date from today_string."
   ]
  },
  {
   "cell_type": "code",
   "execution_count": 4,
   "id": "dbc6be76",
   "metadata": {},
   "outputs": [
    {
     "name": "stdout",
     "output_type": "stream",
     "text": [
      "2022-03-01 00:00:00\n"
     ]
    }
   ],
   "source": [
    "from datetime import datetime\n",
    "parsed_data = datetime.strptime(today_string, '%d-%m-%Y')\n",
    "print(parsed_data)"
   ]
  },
  {
   "cell_type": "code",
   "execution_count": null,
   "id": "ed2ff23a",
   "metadata": {},
   "outputs": [],
   "source": []
  },
  {
   "cell_type": "markdown",
   "id": "07f3c520",
   "metadata": {},
   "source": [
    "4. List the files in your current directory"
   ]
  },
  {
   "cell_type": "code",
   "execution_count": 5,
   "id": "304629d7",
   "metadata": {},
   "outputs": [
    {
     "name": "stdout",
     "output_type": "stream",
     "text": [
      ".jovianrc\n",
      "24 June 2021.txt\n",
      "Assignment_1.ipynb\n",
      "Assignment_10.ipynb\n",
      "Assignment_11.ipynb\n",
      "Assignment_12.ipynb\n",
      "Assignment_13.ipynb\n",
      "Assignment_14.ipynb\n",
      "Assignment_15.ipynb\n",
      "Assignment_16.ipynb\n",
      "Assignment_17.ipynb\n",
      "Assignment_18.ipynb\n",
      "Assignment_19.ipynb\n",
      "Assignment_2.ipynb\n",
      "Assignment_20.ipynb\n",
      "Assignment_21.ipynb\n",
      "Assignment_23.ipynb\n",
      "Assignment_24.ipynb\n",
      "Assignment_25.ipynb\n",
      "Assignment_3.ipynb\n",
      "Assignment_4.ipynb\n",
      "Assignment_5.ipynb\n",
      "Assignment_6.ipynb\n",
      "Assignment_7.ipynb\n",
      "Assignment_8.ipynb\n",
      "Assignment_9.ipynb\n",
      "bill_python_book.pdf\n",
      "books.csv\n",
      "books.db\n",
      "image.png\n",
      "Python theory assignment 21.ipynb\n",
      "Python theory assignment 22.ipynb\n",
      "test.txt\n",
      "today.txt\n",
      "transparent_image.png\n",
      "Untitled.ipynb\n",
      "Assignment_1-checkpoint.ipynb\n",
      "Assignment_10-checkpoint.ipynb\n",
      "Assignment_11-checkpoint.ipynb\n",
      "Assignment_12-checkpoint.ipynb\n",
      "Assignment_13-checkpoint.ipynb\n",
      "Assignment_14-checkpoint.ipynb\n",
      "Assignment_15-checkpoint.ipynb\n",
      "Assignment_16-checkpoint.ipynb\n",
      "Assignment_17-checkpoint.ipynb\n",
      "Assignment_18-checkpoint.ipynb\n",
      "Assignment_19-checkpoint.ipynb\n",
      "Assignment_2-checkpoint.ipynb\n",
      "Assignment_20-checkpoint.ipynb\n",
      "Assignment_21-checkpoint.ipynb\n",
      "Assignment_23-checkpoint.ipynb\n",
      "Assignment_24-checkpoint.ipynb\n",
      "Assignment_25-checkpoint.ipynb\n",
      "Assignment_3-checkpoint.ipynb\n",
      "Assignment_4-checkpoint.ipynb\n",
      "Assignment_5-checkpoint.ipynb\n",
      "Assignment_6-checkpoint.ipynb\n",
      "Assignment_7-checkpoint.ipynb\n",
      "Assignment_8-checkpoint.ipynb\n",
      "Assignment_9-checkpoint.ipynb\n",
      "Python theory assignment 21-checkpoint.ipynb\n",
      "Python theory assignment 22-checkpoint.ipynb\n",
      "Untitled-checkpoint.ipynb\n",
      "Assignment_14.docx\n",
      "Assignment_15.docx\n",
      "Assignment_16.docx\n",
      "Assignment_17.docx\n",
      "Assignment_18.docx\n",
      "Assignment_19.docx\n",
      "Assignment_20 (1).docx\n",
      "Assignment_21 (1).docx\n",
      "Assignment_22 (1).docx\n",
      "Assignment_23 (1).docx\n",
      "Assignment_24 (1).docx\n",
      "Assignment_25 (1).docx\n"
     ]
    }
   ],
   "source": [
    "import os\n",
    "for folders, subfolders, files in os.walk(os.getcwd()):\n",
    "    for file in files:\n",
    "        print(file)"
   ]
  },
  {
   "cell_type": "code",
   "execution_count": null,
   "id": "1db9c409",
   "metadata": {},
   "outputs": [],
   "source": []
  },
  {
   "cell_type": "markdown",
   "id": "b8a9c960",
   "metadata": {},
   "source": [
    "5. Create a list of all of the files in your parent directory (minimum five files should be available)."
   ]
  },
  {
   "cell_type": "code",
   "execution_count": 6,
   "id": "ea6ec8e5",
   "metadata": {},
   "outputs": [
    {
     "data": {
      "text/plain": [
       "['.ipynb_checkpoints',\n",
       " '.jovianrc',\n",
       " '24 June 2021.txt',\n",
       " 'Assignment_1.ipynb',\n",
       " 'Assignment_10.ipynb',\n",
       " 'Assignment_11.ipynb',\n",
       " 'Assignment_12.ipynb',\n",
       " 'Assignment_13.ipynb',\n",
       " 'Assignment_14.ipynb',\n",
       " 'Assignment_15.ipynb',\n",
       " 'Assignment_16.ipynb',\n",
       " 'Assignment_17.ipynb',\n",
       " 'Assignment_18.ipynb',\n",
       " 'Assignment_19.ipynb',\n",
       " 'Assignment_2.ipynb',\n",
       " 'Assignment_20.ipynb',\n",
       " 'Assignment_21.ipynb',\n",
       " 'Assignment_23.ipynb',\n",
       " 'Assignment_24.ipynb',\n",
       " 'Assignment_25.ipynb',\n",
       " 'Assignment_3.ipynb',\n",
       " 'Assignment_4.ipynb',\n",
       " 'Assignment_5.ipynb',\n",
       " 'Assignment_6.ipynb',\n",
       " 'Assignment_7.ipynb',\n",
       " 'Assignment_8.ipynb',\n",
       " 'Assignment_9.ipynb',\n",
       " 'bill_python_book.pdf',\n",
       " 'books.csv',\n",
       " 'books.db',\n",
       " 'image.png',\n",
       " 'Python theory assignment 21.ipynb',\n",
       " 'Python theory assignment 22.ipynb',\n",
       " 'Questions_of_theory_basic_assign',\n",
       " 'test.txt',\n",
       " 'today.txt',\n",
       " 'transparent_image.png',\n",
       " 'Untitled.ipynb']"
      ]
     },
     "execution_count": 6,
     "metadata": {},
     "output_type": "execute_result"
    }
   ],
   "source": [
    "import os \n",
    "os.listdir()"
   ]
  },
  {
   "cell_type": "code",
   "execution_count": null,
   "id": "0205bd0d",
   "metadata": {},
   "outputs": [],
   "source": []
  },
  {
   "cell_type": "markdown",
   "id": "a584f364",
   "metadata": {},
   "source": [
    "6. Use multiprocessing to create three separate processes. Make each one wait a random number of seconds between one and five, print the current time, and then exit."
   ]
  },
  {
   "cell_type": "code",
   "execution_count": 7,
   "id": "9f7763d3",
   "metadata": {},
   "outputs": [],
   "source": [
    "import multiprocessing\n",
    "import time \n",
    "import random\n",
    "import datetime\n",
    "\n",
    "def procOne():\n",
    "    print(f'Proc_one_Starttime -> {datetime.datetime.now()}')\n",
    "    time.sleep(random.randint(1,5))\n",
    "    print(f'Proc_one_Endtime -> {datetime.datetime.now()}')\n",
    "    \n",
    "def procTwo():\n",
    "    print(f'Proc_two_Starttime -> {datetime.datetime.now()}')\n",
    "    time.sleep(random.randint(1,5))\n",
    "    print(f'Proc_two_Endtime -> {datetime.datetime.now()}')\n",
    "\n",
    "def procThree():\n",
    "    print(f'Proc_two_Starttime -> {datetime.datetime.now()}')\n",
    "    time.sleep(random.randint(1,5))\n",
    "    print(f'Proc_two_Endtime -> {datetime.datetime.now()}')\n",
    "    \n",
    "if __name__ == \"__main__\":    \n",
    "    p1 = multiprocessing.Process(target=procOne)\n",
    "    p2 = multiprocessing.Process(target=procTwo)\n",
    "    p3 = multiprocessing.Process(target=procThree)\n",
    "\n",
    "    p1.start()\n",
    "    p2.start()\n",
    "    p3.start()\n",
    "\n",
    "    p1.join()\n",
    "    p2.join()\n",
    "    p3.join()"
   ]
  },
  {
   "attachments": {
    "image.png": {
     "image/png": "[encoded data removed]"
    }
   },
   "cell_type": "markdown",
   "id": "81f4b19c",
   "metadata": {},
   "source": [
    "Due to some unknown reason. the above did not print any results in the jupyter cell. so i copied the code to a python file. executed it and pasted the ouput here.\n",
    "\n",
    "![image.png](attachment:image.png)"
   ]
  },
  {
   "cell_type": "code",
   "execution_count": null,
   "id": "acc6912e",
   "metadata": {},
   "outputs": [],
   "source": []
  },
  {
   "cell_type": "markdown",
   "id": "e4f3c441",
   "metadata": {},
   "source": [
    "7. Create a date object of your day of birth."
   ]
  },
  {
   "cell_type": "code",
   "execution_count": 10,
   "id": "a5694115",
   "metadata": {},
   "outputs": [
    {
     "data": {
      "text/plain": [
       "'Sunday'"
      ]
     },
     "execution_count": 10,
     "metadata": {},
     "output_type": "execute_result"
    }
   ],
   "source": [
    "from datetime import datetime\n",
    "my_dob = datetime(1888,4,22)\n",
    "my_dob.strftime(\"%A\")"
   ]
  },
  {
   "cell_type": "code",
   "execution_count": null,
   "id": "c318d681",
   "metadata": {},
   "outputs": [],
   "source": []
  },
  {
   "cell_type": "markdown",
   "id": "79a6aa78",
   "metadata": {},
   "source": [
    "9. When will you be (or when were you) 10,000 days old?"
   ]
  },
  {
   "cell_type": "code",
   "execution_count": 11,
   "id": "f8b26574",
   "metadata": {},
   "outputs": [
    {
     "data": {
      "text/plain": [
       "datetime.datetime(1969, 12, 5, 0, 0)"
      ]
     },
     "execution_count": 11,
     "metadata": {},
     "output_type": "execute_result"
    }
   ],
   "source": [
    "from datetime import datetime, timedelta\n",
    "my_dob = datetime.strptime(\"22/04/1997\",'%d/%m/%Y')\n",
    "future_date = my_dob-timedelta(10000)\n",
    "future_date"
   ]
  },
  {
   "cell_type": "code",
   "execution_count": null,
   "id": "34be7031",
   "metadata": {},
   "outputs": [],
   "source": []
  }
 ],
 "metadata": {
  "kernelspec": {
   "display_name": "Python 3",
   "language": "python",
   "name": "python3"
  },
  "language_info": {
   "codemirror_mode": {
    "name": "ipython",
    "version": 3
   },
   "file_extension": ".py",
   "mimetype": "text/x-python",
   "name": "python",
   "nbconvert_exporter": "python",
   "pygments_lexer": "ipython3",
   "version": "3.8.8"
  }
 },
 "nbformat": 4,
 "nbformat_minor": 5
}
