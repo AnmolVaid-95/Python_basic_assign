{
 "cells": [
  {
   "cell_type": "markdown",
   "metadata": {},
   "source": [
    "# Answer 1 "
   ]
  },
  {
   "cell_type": "code",
   "execution_count": 3,
   "metadata": {},
   "outputs": [
    {
     "data": {
      "text/plain": [
       "True"
      ]
     },
     "execution_count": 3,
     "metadata": {},
     "output_type": "execute_result"
    }
   ],
   "source": [
    "# There are 2 types of boolean data type \n",
    "# 1. True, which means 1 and this should be written as True, other format for e.g. TRUE, tRUE, etc. are wrong \n",
    "True  # output will be True"
   ]
  },
  {
   "cell_type": "code",
   "execution_count": 6,
   "metadata": {},
   "outputs": [
    {
     "data": {
      "text/plain": [
       "True"
      ]
     },
     "execution_count": 6,
     "metadata": {},
     "output_type": "execute_result"
    }
   ],
   "source": [
    "a = True\n",
    "\n",
    "a # output will be True because a variable which is of bool type has True in it."
   ]
  },
  {
   "cell_type": "code",
   "execution_count": 2,
   "metadata": {},
   "outputs": [
    {
     "data": {
      "text/plain": [
       "False"
      ]
     },
     "execution_count": 2,
     "metadata": {},
     "output_type": "execute_result"
    }
   ],
   "source": [
    "# 2. False, which means 0 and this sholud be written as False, other format for e.g. FALSE, fALSE ,etc. are wrong\n",
    "False # output will be False\n"
   ]
  },
  {
   "cell_type": "code",
   "execution_count": null,
   "metadata": {},
   "outputs": [],
   "source": [
    "b = False\n",
    "b # output will be False because a variable which is of bool type has False in it"
   ]
  },
  {
   "cell_type": "markdown",
   "metadata": {},
   "source": [
    "# Answer 2 "
   ]
  },
  {
   "cell_type": "code",
   "execution_count": null,
   "metadata": {},
   "outputs": [],
   "source": [
    "# Three different type of Boolean operator are as follows\n",
    "# 1. and\n",
    "# 2. or \n",
    "# 3. not"
   ]
  },
  {
   "cell_type": "markdown",
   "metadata": {},
   "source": [
    "# Answer 3"
   ]
  },
  {
   "cell_type": "code",
   "execution_count": 7,
   "metadata": {},
   "outputs": [
    {
     "data": {
      "text/plain": [
       "False"
      ]
     },
     "execution_count": 7,
     "metadata": {},
     "output_type": "execute_result"
    }
   ],
   "source": [
    "# 1. and, this will return 1 when both conditions are true. Below gives an idead how and works\n",
    "# 1 and 1 = 1\n",
    "# 1 and 0 = 0\n",
    "# 0 and 1 = 0\n",
    "# 0 and 0 = 0\n",
    "\n",
    "a = 10 \n",
    "b = 56\n",
    "\n",
    "a > 9 and b > 100 # output of this is False because a is True i.e. a is greater than 9 but b is less than 100 so 1 and 0 becomes 0 and asnwer becomes False.\n",
    "\n",
    "    "
   ]
  },
  {
   "cell_type": "code",
   "execution_count": 8,
   "metadata": {},
   "outputs": [
    {
     "data": {
      "text/plain": [
       "True"
      ]
     },
     "execution_count": 8,
     "metadata": {},
     "output_type": "execute_result"
    }
   ],
   "source": [
    "# 2. or, this will return 1 when one of the condition yields output as 1. Below gives  an idead how and works\n",
    "# 1 or 1 = 1\n",
    "# 1 or 0 = 1\n",
    "# 0 or 1 = 1\n",
    "# 0 or 0 = 0 \n",
    "\n",
    "x = 99\n",
    "y = 101\n",
    "\n",
    "x > 9 or y > 1000 # output is True because x > 9 gives output as 1 and y > 1000 gives 0, but in or as one condition becomes True snet output becomes True\n"
   ]
  },
  {
   "cell_type": "code",
   "execution_count": 11,
   "metadata": {},
   "outputs": [
    {
     "data": {
      "text/plain": [
       "True"
      ]
     },
     "execution_count": 11,
     "metadata": {},
     "output_type": "execute_result"
    }
   ],
   "source": [
    "# 3. not, this retuen True when condition is not true. Example for working of not is shown below.\n",
    "u = 100\n",
    "u != 8 # answer is True because value of variable u is 100 not 8."
   ]
  },
  {
   "cell_type": "markdown",
   "metadata": {},
   "source": [
    "# Answer 4"
   ]
  },
  {
   "cell_type": "code",
   "execution_count": 12,
   "metadata": {},
   "outputs": [
    {
     "data": {
      "text/plain": [
       "False"
      ]
     },
     "execution_count": 12,
     "metadata": {},
     "output_type": "execute_result"
    }
   ],
   "source": [
    "# 1. (5 > 4) and (3 == 5)\n",
    "(5 > 4) and (3 == 5) \n",
    "# output is False because 5 > 4 is True but 3 == 5 is False so in case of and operator 1 and 0 yields 0 as output which is False."
   ]
  },
  {
   "cell_type": "code",
   "execution_count": 13,
   "metadata": {},
   "outputs": [
    {
     "data": {
      "text/plain": [
       "False"
      ]
     },
     "execution_count": 13,
     "metadata": {},
     "output_type": "execute_result"
    }
   ],
   "source": [
    "# 2. not (5 > 4)\n",
    "not (5 > 4) \n",
    "\n",
    "# output is False because 5 > 4 is True but not which is present outside brackets makes this condition as False so output becomes False\n"
   ]
  },
  {
   "cell_type": "code",
   "execution_count": 14,
   "metadata": {},
   "outputs": [
    {
     "data": {
      "text/plain": [
       "True"
      ]
     },
     "execution_count": 14,
     "metadata": {},
     "output_type": "execute_result"
    }
   ],
   "source": [
    "# 3. (5 > 4) or (3 == 5)\n",
    "(5 > 4) or (3 == 5)\n",
    "# output is True because 5 > 4 is True and 3 == 5 is False so in case of or operator 1 and 0 yields 1 as output which is True."
   ]
  },
  {
   "cell_type": "code",
   "execution_count": 15,
   "metadata": {},
   "outputs": [
    {
     "data": {
      "text/plain": [
       "False"
      ]
     },
     "execution_count": 15,
     "metadata": {},
     "output_type": "execute_result"
    }
   ],
   "source": [
    "# 4. not ((5 > 4) or (3 == 5))\n",
    "not ((5 > 4) or (3 == 5))\n",
    "# Output becomes False because bracket answer is true however not operator outside bracket make it False.\n"
   ]
  },
  {
   "cell_type": "code",
   "execution_count": 16,
   "metadata": {},
   "outputs": [
    {
     "data": {
      "text/plain": [
       "False"
      ]
     },
     "execution_count": 16,
     "metadata": {},
     "output_type": "execute_result"
    }
   ],
   "source": [
    "# 5. (True and True) and (True == False)\n",
    "(True and True) and (True == False)\n",
    "# 1             and        0         equals = 0 as explained above in and table"
   ]
  },
  {
   "cell_type": "code",
   "execution_count": 17,
   "metadata": {},
   "outputs": [
    {
     "data": {
      "text/plain": [
       "True"
      ]
     },
     "execution_count": 17,
     "metadata": {},
     "output_type": "execute_result"
    }
   ],
   "source": [
    "# 6. (not False) or (not True)\n",
    "(not False) or (not True)\n",
    "# not False = True \n",
    "# not True = False\n",
    "# True or False = True"
   ]
  },
  {
   "cell_type": "markdown",
   "metadata": {},
   "source": [
    "# Answer 5"
   ]
  },
  {
   "cell_type": "code",
   "execution_count": null,
   "metadata": {},
   "outputs": [],
   "source": [
    "# Six refernce operators are :\n",
    "# 1. == --> equals to\n",
    "# 2. != -->not equals to\n",
    "# 3. < --> less than\n",
    "# 4. > --> greater than \n",
    "# 5. <= --> less than equal to\n",
    "# 6. >= --> greater than equals to"
   ]
  },
  {
   "cell_type": "markdown",
   "metadata": {},
   "source": [
    "# Answer 6 "
   ]
  },
  {
   "cell_type": "code",
   "execution_count": 19,
   "metadata": {},
   "outputs": [
    {
     "data": {
      "text/plain": [
       "99"
      ]
     },
     "execution_count": 19,
     "metadata": {},
     "output_type": "execute_result"
    }
   ],
   "source": [
    "# 1. Assignement to operator --> = \n",
    "# This will assign value mentioned of right side of equals to to left side of equals to\n",
    "a = 99\n",
    "a\n",
    "# we can see that a variable was assigned value 99"
   ]
  },
  {
   "cell_type": "code",
   "execution_count": 20,
   "metadata": {},
   "outputs": [
    {
     "data": {
      "text/plain": [
       "False"
      ]
     },
     "execution_count": 20,
     "metadata": {},
     "output_type": "execute_result"
    }
   ],
   "source": [
    "# 2. Equals to operator --> ==\n",
    "# this will compare value mentioned on left side to right side. If values are equal then output will be True and if values are not equal then output will be False\n",
    "t = 10\n",
    "r = 9\n",
    "t == r\n",
    "# output is False because values of t and r are not same."
   ]
  },
  {
   "cell_type": "markdown",
   "metadata": {},
   "source": [
    "# Answer 7"
   ]
  },
  {
   "cell_type": "code",
   "execution_count": 26,
   "metadata": {},
   "outputs": [],
   "source": [
    "# A condition is an expression used in a flow control statement that evaluates to a Boolean value.\n"
   ]
  },
  {
   "cell_type": "markdown",
   "metadata": {},
   "source": [
    "# Answer 8 "
   ]
  },
  {
   "cell_type": "code",
   "execution_count": 4,
   "metadata": {},
   "outputs": [
    {
     "name": "stdout",
     "output_type": "stream",
     "text": [
      "spam\n"
     ]
    }
   ],
   "source": [
    "spam = 0\n",
    "if spam == 10: # first if block\n",
    "    print('eggs')\n",
    "    if spam > 5: # second if block which is present in first if block\n",
    "        print('bacon')\n",
    "    else:        # else statement which will be executed if second if block if condition becomes false\n",
    "        print('ham')\n",
    "    print('spam')\n",
    "print('spam') # after execution of above code, this last line will be executed and output will be spam only\n"
   ]
  },
  {
   "cell_type": "markdown",
   "metadata": {},
   "source": [
    "# Answer 9"
   ]
  },
  {
   "cell_type": "code",
   "execution_count": 28,
   "metadata": {},
   "outputs": [
    {
     "name": "stdout",
     "output_type": "stream",
     "text": [
      "Enter value of spam --> 88\n",
      "Salutations!\n"
     ]
    }
   ],
   "source": [
    "spam = int(input(\"Enter value of spam --> \"))\n",
    "if spam == 1:\n",
    "    print(\"Hello\")\n",
    "elif spam == 2:\n",
    "    print(\"Howdy\")\n",
    "elif spam == 3:\n",
    "    print(\"Salutations!\")\n",
    "else:\n",
    "    print(\"There is something else in spam\")"
   ]
  },
  {
   "cell_type": "markdown",
   "metadata": {},
   "source": [
    "# Answer 10"
   ]
  },
  {
   "cell_type": "code",
   "execution_count": null,
   "metadata": {},
   "outputs": [],
   "source": [
    "# To stop infinite loop in notebook we can do:\n",
    "# 1. Manual stopping the kernel by pressing the stop button at the top.\n",
    "# 2. Closing and reopening the notebook.\n",
    "# 3. control + c\n"
   ]
  },
  {
   "cell_type": "markdown",
   "metadata": {},
   "source": [
    "# Answer 11"
   ]
  },
  {
   "cell_type": "code",
   "execution_count": 17,
   "metadata": {},
   "outputs": [],
   "source": [
    "# To tell difference between break and continue we look for these keywords present in program.\n",
    "# Break statements exist in Python to exit or “break” a loop as per reqiured condition. When the loop ends, the code picks up from and executes the next line immediately following the loop that was broken. \n",
    "# The continue statement is used to skip code within a loop for certain iterations of the loop. After the code is skipped, the loop continues where it left off. "
   ]
  },
  {
   "cell_type": "markdown",
   "metadata": {},
   "source": [
    "# Answer 12"
   ]
  },
  {
   "cell_type": "code",
   "execution_count": 22,
   "metadata": {},
   "outputs": [
    {
     "name": "stdout",
     "output_type": "stream",
     "text": [
      "0\n",
      "1\n",
      "2\n",
      "3\n",
      "4\n",
      "5\n",
      "6\n",
      "7\n",
      "8\n",
      "9\n"
     ]
    }
   ],
   "source": [
    "# range(10)\n",
    "for i in range(10): # range here automatically takes starting point as 0 and end point as 9, upper bound is not included and step as 1. so here we mentioned here only upper bound which is equal to 10  \n",
    "    print(i)"
   ]
  },
  {
   "cell_type": "code",
   "execution_count": 20,
   "metadata": {},
   "outputs": [
    {
     "name": "stdout",
     "output_type": "stream",
     "text": [
      "0\n",
      "1\n",
      "2\n",
      "3\n",
      "4\n",
      "5\n",
      "6\n",
      "7\n",
      "8\n",
      "9\n"
     ]
    }
   ],
   "source": [
    "# range(0,10) # here starting and upper bound is defined but step size is not. Step size will be taken as 1 by default.\n",
    "for i in range(0,10):\n",
    "    print(i)"
   ]
  },
  {
   "cell_type": "code",
   "execution_count": 21,
   "metadata": {},
   "outputs": [
    {
     "name": "stdout",
     "output_type": "stream",
     "text": [
      "0\n",
      "1\n",
      "2\n",
      "3\n",
      "4\n",
      "5\n",
      "6\n",
      "7\n",
      "8\n",
      "9\n"
     ]
    }
   ],
   "source": [
    "# range(0, 10, 1)\n",
    "# Here starting point, upperbound and end point all 3 parameters are defined.\n",
    "for i in range(0, 10, 1):\n",
    "    print(i)"
   ]
  },
  {
   "cell_type": "code",
   "execution_count": null,
   "metadata": {},
   "outputs": [],
   "source": [
    "# However output of range(10), range(0, 10), and range(0, 10, 1) will be same."
   ]
  },
  {
   "cell_type": "markdown",
   "metadata": {},
   "source": [
    "# Answer 13"
   ]
  },
  {
   "cell_type": "code",
   "execution_count": 23,
   "metadata": {},
   "outputs": [
    {
     "name": "stdout",
     "output_type": "stream",
     "text": [
      "1\n",
      "2\n",
      "3\n",
      "4\n",
      "5\n",
      "6\n",
      "7\n",
      "8\n",
      "9\n",
      "10\n"
     ]
    }
   ],
   "source": [
    "# for loop that prints number 1 to 10\n",
    "for i in range(1,11):\n",
    "    print(i)"
   ]
  },
  {
   "cell_type": "code",
   "execution_count": 25,
   "metadata": {},
   "outputs": [
    {
     "name": "stdout",
     "output_type": "stream",
     "text": [
      "1\n",
      "2\n",
      "3\n",
      "4\n",
      "5\n",
      "6\n",
      "7\n",
      "8\n",
      "9\n",
      "10\n"
     ]
    }
   ],
   "source": [
    "# while loop that prints number 1 to 10\n",
    "i = 1\n",
    "while i<11:\n",
    "    print(i)\n",
    "    i= i +1"
   ]
  },
  {
   "cell_type": "markdown",
   "metadata": {},
   "source": [
    "# Answer 14"
   ]
  },
  {
   "cell_type": "code",
   "execution_count": null,
   "metadata": {},
   "outputs": [],
   "source": [
    "# This function can be called with spam.bacon()."
   ]
  }
 ],
 "metadata": {
  "kernelspec": {
   "display_name": "Python 3",
   "language": "python",
   "name": "python3"
  },
  "language_info": {
   "codemirror_mode": {
    "name": "ipython",
    "version": 3
   },
   "file_extension": ".py",
   "mimetype": "text/x-python",
   "name": "python",
   "nbconvert_exporter": "python",
   "pygments_lexer": "ipython3",
   "version": "3.8.5"
  }
 },
 "nbformat": 4,
 "nbformat_minor": 4
}
